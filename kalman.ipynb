{
 "cells": [
  {
   "cell_type": "code",
   "execution_count": null,
   "source": [
    "dt = 0.01\r\n",
    "x0 = np.array([0,0])\r\n",
    "P0 = np.diag([10,10])\r\n",
    "Q = np.diag([1,1])*10000\r\n",
    "R = np.diag([1,1])*0.00000000000001\r\n",
    "\r\n",
    "Phi = np.array([[1, dt], [0, 1]])\r\n",
    "C = np.diag([1,1])"
   ],
   "outputs": [],
   "metadata": {}
  },
  {
   "cell_type": "code",
   "execution_count": null,
   "source": [
    "xs = []\r\n",
    "x_ps = []\r\n",
    "x_pred = x0.copy()\r\n",
    "P_pred = P0.copy()\r\n",
    "for i,z_k in enumerate(z):\r\n",
    "  # correction\r\n",
    "  L = np.dot(np.dot(P_pred,C.T), np.linalg.inv(np.dot(C, np.dot(P_pred, C.T)) + R))\r\n",
    "  x_corr = x_pred + np.dot(L, z_k - np.dot(C,x_pred))\r\n",
    "  P_corr = np.dot(np.eye(2) - np.dot(L, C), P_pred)\r\n",
    "\r\n",
    "  xs.append(x_corr)\r\n",
    "\r\n",
    "  x_pred = np.dot(Phi, x_corr)\r\n",
    "  P_pred = np.dot(Phi, np.dot(P_corr, Phi.T)) + Q\r\n",
    "\r\n",
    "  x_ps.append(x_pred)"
   ],
   "outputs": [],
   "metadata": {}
  },
  {
   "cell_type": "code",
   "execution_count": null,
   "source": [
    "xs_np = np.array(xs)\r\n",
    "print(xs_np.shape)\r\n",
    "x_psnp = np.array(x_ps)\r\n",
    "\r\n",
    "fig = plt.figure(figsize=(10,10))\r\n",
    "ax1 = plt.subplot(2,1,1)\r\n",
    "plt.plot(xs_np[:5000, 1], alpha=1, label='corr')\r\n",
    "plt.plot(x_psnp[:5000, 1], alpha=1, label='pred')\r\n",
    "\r\n",
    "plt.plot(z[:5000, 1], alpha=1, label='sen')\r\n",
    "plt.plot(des[:5000, 0], alpha=1, label='des')\r\n",
    "\r\n",
    "plt.legend()\r\n",
    "\r\n",
    "ax1 = plt.subplot(2,1,2)\r\n",
    "plt.plot(xs_np[:5000, 0], alpha=0.8)\r\n",
    "plt.plot(z[:5000, 0], alpha=0.5)\r\n",
    "\r\n",
    "plt.show()"
   ],
   "outputs": [],
   "metadata": {}
  }
 ],
 "metadata": {
  "orig_nbformat": 4,
  "language_info": {
   "name": "python"
  }
 },
 "nbformat": 4,
 "nbformat_minor": 2
}